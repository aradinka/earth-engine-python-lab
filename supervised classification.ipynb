{
 "cells": [
  {
   "cell_type": "markdown",
   "metadata": {},
   "source": [
    "# Supervised Classification"
   ]
  },
  {
   "cell_type": "code",
   "execution_count": 1,
   "metadata": {},
   "outputs": [
    {
     "data": {
      "text/plain": [
       "True"
      ]
     },
     "execution_count": 1,
     "metadata": {},
     "output_type": "execute_result"
    }
   ],
   "source": [
    "import ee\n",
    "ee.Initialize()\n",
    "ee.Authenticate()"
   ]
  },
  {
   "cell_type": "code",
   "execution_count": 2,
   "metadata": {},
   "outputs": [],
   "source": [
    "import geemap\n",
    "\n",
    "rgb_vis = {'bands': ['B4', 'B3', 'B2'], 'min': 0, 'max': 3000}\n",
    "palette = ['#cc6d8f', '#ffc107', '#1e88e5', '#004d40']"
   ]
  },
  {
   "cell_type": "code",
   "execution_count": 3,
   "metadata": {},
   "outputs": [
    {
     "data": {
      "text/html": [
       "\n",
       "            <style>\n",
       "                .geemap-dark {\n",
       "                    --jp-widgets-color: white;\n",
       "                    --jp-widgets-label-color: white;\n",
       "                    --jp-ui-font-color1: white;\n",
       "                    --jp-layout-color2: #454545;\n",
       "                    background-color: #383838;\n",
       "                }\n",
       "                    \n",
       "                .geemap-dark .jupyter-button {\n",
       "                    --jp-layout-color3: #383838;\n",
       "                }\n",
       "                \n",
       "                .geemap-colab {\n",
       "                    background-color: var(--colab-primary-surface-color, white);\n",
       "                }\n",
       "                    \n",
       "                .geemap-colab .jupyter-button {\n",
       "                    --jp-layout-color3: var(--colab-primary-surface-color, white);\n",
       "                }\n",
       "            </style>\n",
       "            "
      ],
      "text/plain": [
       "<IPython.core.display.HTML object>"
      ]
     },
     "metadata": {},
     "output_type": "display_data"
    }
   ],
   "source": [
    "banglore = ee.FeatureCollection('users/ujavalgandhi/public/bangalore_boundary')\n",
    "geometry = banglore.geometry()"
   ]
  },
  {
   "cell_type": "code",
   "execution_count": 4,
   "metadata": {},
   "outputs": [
    {
     "data": {
      "text/html": [
       "\n",
       "            <style>\n",
       "                .geemap-dark {\n",
       "                    --jp-widgets-color: white;\n",
       "                    --jp-widgets-label-color: white;\n",
       "                    --jp-ui-font-color1: white;\n",
       "                    --jp-layout-color2: #454545;\n",
       "                    background-color: #383838;\n",
       "                }\n",
       "                    \n",
       "                .geemap-dark .jupyter-button {\n",
       "                    --jp-layout-color3: #383838;\n",
       "                }\n",
       "                \n",
       "                .geemap-colab {\n",
       "                    background-color: var(--colab-primary-surface-color, white);\n",
       "                }\n",
       "                    \n",
       "                .geemap-colab .jupyter-button {\n",
       "                    --jp-layout-color3: var(--colab-primary-surface-color, white);\n",
       "                }\n",
       "            </style>\n",
       "            "
      ],
      "text/plain": [
       "<IPython.core.display.HTML object>"
      ]
     },
     "metadata": {},
     "output_type": "display_data"
    }
   ],
   "source": [
    "urban = ee.FeatureCollection('users/ujavalgandhi/e2e/urban_gcps')\n",
    "bare = ee.FeatureCollection('users/ujavalgandhi/e2e/bare_gcps')\n",
    "water = ee.FeatureCollection('users/ujavalgandhi/e2e/water_gcps')\n",
    "vegetation = ee.FeatureCollection('users/ujavalgandhi/e2e/vegetation_gcps')"
   ]
  },
  {
   "cell_type": "code",
   "execution_count": 5,
   "metadata": {},
   "outputs": [
    {
     "data": {
      "text/html": [
       "\n",
       "            <style>\n",
       "                .geemap-dark {\n",
       "                    --jp-widgets-color: white;\n",
       "                    --jp-widgets-label-color: white;\n",
       "                    --jp-ui-font-color1: white;\n",
       "                    --jp-layout-color2: #454545;\n",
       "                    background-color: #383838;\n",
       "                }\n",
       "                    \n",
       "                .geemap-dark .jupyter-button {\n",
       "                    --jp-layout-color3: #383838;\n",
       "                }\n",
       "                \n",
       "                .geemap-colab {\n",
       "                    background-color: var(--colab-primary-surface-color, white);\n",
       "                }\n",
       "                    \n",
       "                .geemap-colab .jupyter-button {\n",
       "                    --jp-layout-color3: var(--colab-primary-surface-color, white);\n",
       "                }\n",
       "            </style>\n",
       "            "
      ],
      "text/plain": [
       "<IPython.core.display.HTML object>"
      ]
     },
     "metadata": {},
     "output_type": "display_data"
    }
   ],
   "source": [
    "s2 = ee.ImageCollection('COPERNICUS/S2_HARMONIZED')\n",
    "s2 = (\n",
    "    s2\n",
    "    .filter(ee.Filter.lt('CLOUDY_PIXEL_PERCENTAGE', 30))\n",
    "    .filter(ee.Filter.date('2019-01-01', '2020-01-01'))\n",
    "    .filter(ee.Filter.bounds(geometry))\n",
    "    .select('B.*')\n",
    ")\n",
    "s2_composite = s2.median()"
   ]
  },
  {
   "cell_type": "markdown",
   "metadata": {},
   "source": [
    "ee.Image.sampleRegions\n",
    "\n",
    "Converts each pixel of an image (at a given scale) that intersects one or more regions to a Feature, returning them as a FeatureCollection. Each output feature will have one property per band of the input image, as well as any specified properties copied from the input feature.\n",
    "Note that geometries will be snapped to pixel centers."
   ]
  },
  {
   "cell_type": "code",
   "execution_count": 6,
   "metadata": {},
   "outputs": [
    {
     "data": {
      "text/html": [
       "\n",
       "            <style>\n",
       "                .geemap-dark {\n",
       "                    --jp-widgets-color: white;\n",
       "                    --jp-widgets-label-color: white;\n",
       "                    --jp-ui-font-color1: white;\n",
       "                    --jp-layout-color2: #454545;\n",
       "                    background-color: #383838;\n",
       "                }\n",
       "                    \n",
       "                .geemap-dark .jupyter-button {\n",
       "                    --jp-layout-color3: #383838;\n",
       "                }\n",
       "                \n",
       "                .geemap-colab {\n",
       "                    background-color: var(--colab-primary-surface-color, white);\n",
       "                }\n",
       "                    \n",
       "                .geemap-colab .jupyter-button {\n",
       "                    --jp-layout-color3: var(--colab-primary-surface-color, white);\n",
       "                }\n",
       "            </style>\n",
       "            "
      ],
      "text/plain": [
       "<IPython.core.display.HTML object>"
      ]
     },
     "metadata": {},
     "output_type": "display_data"
    }
   ],
   "source": [
    "gcps = urban.merge(bare).merge(water).merge(vegetation)\n",
    "training = s2_composite.sampleRegions(\n",
    "    collection=gcps,\n",
    "    properties=['landcover'],\n",
    "    scale=10,\n",
    ")\n",
    "classifier = ee.Classifier.smileRandomForest(50).train(\n",
    "    features=training,\n",
    "    classProperty='landcover',\n",
    "    inputProperties=s2_composite.bandNames()\n",
    ")\n",
    "classified = s2_composite.classify(classifier)"
   ]
  },
  {
   "cell_type": "code",
   "execution_count": 7,
   "metadata": {},
   "outputs": [
    {
     "data": {
      "text/html": [
       "\n",
       "            <style>\n",
       "                .geemap-dark {\n",
       "                    --jp-widgets-color: white;\n",
       "                    --jp-widgets-label-color: white;\n",
       "                    --jp-ui-font-color1: white;\n",
       "                    --jp-layout-color2: #454545;\n",
       "                    background-color: #383838;\n",
       "                }\n",
       "                    \n",
       "                .geemap-dark .jupyter-button {\n",
       "                    --jp-layout-color3: #383838;\n",
       "                }\n",
       "                \n",
       "                .geemap-colab {\n",
       "                    background-color: var(--colab-primary-surface-color, white);\n",
       "                }\n",
       "                    \n",
       "                .geemap-colab .jupyter-button {\n",
       "                    --jp-layout-color3: var(--colab-primary-surface-color, white);\n",
       "                }\n",
       "            </style>\n",
       "            "
      ],
      "text/plain": [
       "<IPython.core.display.HTML object>"
      ]
     },
     "metadata": {},
     "output_type": "display_data"
    },
    {
     "data": {
      "application/vnd.jupyter.widget-view+json": {
       "model_id": "5930344b8d8349969c40c2794acdcd31",
       "version_major": 2,
       "version_minor": 0
      },
      "text/plain": [
       "Map(center=[0, 0], controls=(WidgetControl(options=['position', 'transparent_bg'], widget=SearchDataGUI(childr…"
      ]
     },
     "execution_count": 7,
     "metadata": {},
     "output_type": "execute_result"
    }
   ],
   "source": [
    "Map = geemap.Map()\n",
    "Map.addLayer(geometry, {}, 'Banglore')\n",
    "Map.addLayer(urban.geometry(), {'color':'red'}, 'Urban')\n",
    "Map.addLayer(bare.geometry(), {'color':'brown'}, 'Bare')\n",
    "Map.addLayer(water.geometry(), {'color':'blue'}, 'Water')\n",
    "Map.addLayer(vegetation.geometry(), {'color':'green'}, 'Vegetation')\n",
    "Map.addLayer(s2_composite.clip(geometry), rgb_vis, \"Sentinel-2\")\n",
    "Map.addLayer(classified.clip(geometry), {'min': 0, 'max': 3, 'palette': palette}, 'Landcover')\n",
    "Map.centerObject(geometry)\n",
    "Map"
   ]
  },
  {
   "cell_type": "markdown",
   "metadata": {},
   "source": [
    "Train with train val split"
   ]
  },
  {
   "cell_type": "code",
   "execution_count": null,
   "metadata": {},
   "outputs": [],
   "source": [
    "basin = ee.FeatureCollection('WWF/HydroSHEDS/v1/Basins/hybas_7')\n",
    "gcp = ee.FeatureCollection('users/ujavalgandhi/e2e/arkavathy_gcps')\n",
    "\n",
    "arkavathy = basin.filter(ee.Filter.eq('HYBAS_ID', 4071139640))\n",
    "arkavathy_geometry = arkavathy.geometry()\n",
    "\n",
    "# split train validation\n",
    "gcp = gcp.randomColumn('random')\n",
    "training_gcp = gcp.filter(ee.Filter.lt('random', 0.6))\n",
    "validation_gcp = gcp.filter(ee.Filter.gte('random', 0.6))\n",
    "\n",
    "training = s2_composite.sampleRegions(\n",
    "    collection=training_gcp,\n",
    "    properties=['landcover'],\n",
    "    scale=10,\n",
    "    tileScale=16,\n",
    ")\n",
    "\n",
    "classifier = ee.Classifier.smileRandomForest(50).train(\n",
    "    features=training,\n",
    "    classProperty='landcover',\n",
    "    inputProperties=s2_composite.bandNames()\n",
    ")\n",
    "\n",
    "classified = s2_composite.classify(classifier)"
   ]
  },
  {
   "cell_type": "code",
   "execution_count": null,
   "metadata": {},
   "outputs": [],
   "source": [
    "validation = s2_composite.sampleRegions(\n",
    "    collection=validation_gcp,\n",
    "    properties=['landcover'],\n",
    "    scale=10,\n",
    "    tileScale=16,\n",
    ")\n",
    "test = validation.classify(classifier)\n",
    "\n",
    "confusion_matrix = test.errorMatrix('landcover', 'classification')\n",
    "print(confusion_matrix.getInfo())\n",
    "print('Validation overall accuracy: ', confusion_matrix.accuracy().getInfo())"
   ]
  },
  {
   "cell_type": "markdown",
   "metadata": {},
   "source": [
    "# Improved Classification"
   ]
  },
  {
   "cell_type": "code",
   "execution_count": null,
   "metadata": {},
   "outputs": [],
   "source": [
    "def mask_cloud_shadow_sr(image: ee.Image) -> ee.Image:\n",
    "    cloud_prob = image.select('MSK_CLDPRB')\n",
    "    cloud = cloud_prob.lt(10)\n",
    "    scl = image.select('SCL')\n",
    "    shadow = scl.eq(3) # cloud shadow\n",
    "    cirrus = scl.eq(10) # cirrus\n",
    "    mask = cloud.And(cirrus.neq(1)).And(shadow.neq(1))\n",
    "    return image.updateMask(mask)\n",
    "\n",
    "def add_incidies(image: ee.Image) -> ee.Image:\n",
    "    ndvi = image.normalizedDifference(['B8', 'B4']).rename('ndvi')\n",
    "    ndbi = image.normalizedDifference(['B11', 'B8']).rename('ndbi')\n",
    "    mndwi = image.normalizedDifference(['B3', 'B8']).rename('mndwi')\n",
    "    bsi = image.expression(\n",
    "        '((X + Y) - (A - B)) / ((X + Y) + (A + B))', {\n",
    "            'X': image.select('B11'), # swir1\n",
    "            'Y': image.select('B4'), # red\n",
    "            'A': image.select('B8'), # nir\n",
    "            'B': image.select('B2') # blue\n",
    "        }\n",
    "    )\n",
    "    return image.addBands(ndvi).addBands(ndbi).addBands(mndwi).addBands(bsi)\n",
    "\n",
    "def normalize_bands(image: ee.Image, geometry: ee.Geometry) -> ee.Image:\n",
    "    min_dict = image.reduceRegion(\n",
    "        reducer=ee.Reducer.min(),\n",
    "        geometry=geometry,\n",
    "        scale=20,\n",
    "        maxPixels=1e13,\n",
    "        bestEffort=True,\n",
    "        tileScale=16,\n",
    "    )\n",
    "    max_dict = image.reduceRegion(\n",
    "        reducer=ee.Reducer.max(),\n",
    "        geometry=geometry,\n",
    "        scale=20,\n",
    "        maxPixels=1e13,\n",
    "        bestEffort=True,\n",
    "        tileScale=16,\n",
    "    )\n",
    "    mins = ee.Image.constant(min_dict.values(image.bandNames()))\n",
    "    maxs = ee.Image.constant(max_dict.values(image.bandNames()))\n",
    "    normalized = image.subtract(mins).divide(maxs.subtract(mins))\n",
    "    return normalized\n",
    "\n",
    "s2 = ee.ImageCollection('COPERNICUS/S2_SR_HARMONIZED')\n",
    "basin = ee.FeatureCollection('WWF/HydroSHEDS/v1/Basins/hybas_7')\n",
    "gcp = ee.FeatureCollection('users/ujavalgandhi/e2e/arkavathy_gcps')\n",
    "alos = ee.Image('JAXA/ALOS/AW3D30/V2_2')\n",
    "\n",
    "arkavathy = basin.filter(ee.Filter.eq('HYBAS_ID', 4071139640))\n",
    "\n",
    "s2 = (\n",
    "    s2\n",
    "    .filter(ee.Filter.lt('CLOUDY_PIXEL_PERCENTAGE', 30))\n",
    "    .filter(ee.Filter.date('2019-01-01', '2020-01-01'))\n",
    "    .filter(ee.Filter.bounds(arkavathy.geometry()))\n",
    "    .map(mask_cloud_shadow_sr)\n",
    "    # .select('B.*')\n",
    ")\n",
    "s2_composite = s2.median()\n",
    "composite = add_incidies(s2_composite)\n",
    "\n",
    "elev = alos.select('AVE_DSM').rename('elev')\n",
    "slope = ee.Terrain.slope(alos.select('AVE_DSM')).rename('slope')\n",
    "composite = composite.addBands(elev).addBands(slope)\n",
    "composite = normalize_bands(composite, arkavathy.geometry())"
   ]
  },
  {
   "cell_type": "code",
   "execution_count": null,
   "metadata": {},
   "outputs": [],
   "source": [
    "gcp = gcp.randomColumn('random')\n",
    "\n",
    "training_gcp = gcp.filter(ee.Filter.lt('random', 0.6))\n",
    "validation_gcp = gcp.filter(ee.Filter.gte('random', 0.6))\n",
    "\n",
    "training = composite.sampleRegions(\n",
    "    collection=training_gcp,\n",
    "    properties=['landcover'],\n",
    "    scale=10,\n",
    "    tileScale=16,\n",
    ")\n",
    "\n",
    "classifier = ee.Classifier.smileRandomForest(50).train(\n",
    "    features=training,\n",
    "    classProperty='landcover',\n",
    "    inputProperties=composite.bandNames()\n",
    ")\n",
    "\n",
    "classified = composite.classify(classifier)\n",
    "\n",
    "test = classified.sampleRegions(\n",
    "    collection=validation_gcp,\n",
    "    properties=['landcover'],\n",
    "    scale=10,\n",
    "    tileScale=16,\n",
    ")\n",
    "\n",
    "confusion_matrix = test.errorMatrix('landcover', 'classification')"
   ]
  },
  {
   "cell_type": "code",
   "execution_count": null,
   "metadata": {},
   "outputs": [],
   "source": [
    "print(confusion_matrix.getInfo())\n",
    "print('Validation overall accuracy: ', confusion_matrix.accuracy().getInfo())"
   ]
  },
  {
   "cell_type": "code",
   "execution_count": null,
   "metadata": {},
   "outputs": [],
   "source": []
  }
 ],
 "metadata": {
  "kernelspec": {
   "display_name": "ccdc",
   "language": "python",
   "name": "python3"
  },
  "language_info": {
   "codemirror_mode": {
    "name": "ipython",
    "version": 3
   },
   "file_extension": ".py",
   "mimetype": "text/x-python",
   "name": "python",
   "nbconvert_exporter": "python",
   "pygments_lexer": "ipython3",
   "version": "3.8.18"
  }
 },
 "nbformat": 4,
 "nbformat_minor": 2
}
