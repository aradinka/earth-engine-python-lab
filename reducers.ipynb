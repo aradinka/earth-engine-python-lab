{
 "cells": [
  {
   "cell_type": "markdown",
   "metadata": {},
   "source": [
    "# Earth Engine Reducer Concept"
   ]
  },
  {
   "cell_type": "code",
   "execution_count": 1,
   "metadata": {},
   "outputs": [
    {
     "data": {
      "text/plain": [
       "True"
      ]
     },
     "execution_count": 1,
     "metadata": {},
     "output_type": "execute_result"
    }
   ],
   "source": [
    "import ee\n",
    "ee.Initialize()\n",
    "ee.Authenticate()"
   ]
  },
  {
   "cell_type": "markdown",
   "metadata": {},
   "source": [
    "Basic"
   ]
  },
  {
   "cell_type": "code",
   "execution_count": 2,
   "metadata": {},
   "outputs": [
    {
     "name": "stdout",
     "output_type": "stream",
     "text": [
      "ee.List: [1, 2, 3, 4, 5, 6, 7, 8, 9, 10]\n",
      "Mean: 5.5\n"
     ]
    }
   ],
   "source": [
    "my_list = ee.List.sequence(1, 10)\n",
    "mean = my_list.reduce(ee.Reducer.mean())\n",
    "\n",
    "print(f\"ee.List: {my_list.getInfo()}\")\n",
    "print(f\"Mean: {mean.getInfo()}\")"
   ]
  },
  {
   "cell_type": "markdown",
   "metadata": {},
   "source": [
    "Reduce ee.ImageCollection\n",
    "\n",
    "Applies a reducer to all of the bands of an image. It will called at each pixel to reduce the stack of band values. The output image will have one band for each reducer output. Output an ee.Image."
   ]
  },
  {
   "cell_type": "code",
   "execution_count": 6,
   "metadata": {},
   "outputs": [
    {
     "data": {
      "text/html": [
       "\n",
       "            <style>\n",
       "                .geemap-dark {\n",
       "                    --jp-widgets-color: white;\n",
       "                    --jp-widgets-label-color: white;\n",
       "                    --jp-ui-font-color1: white;\n",
       "                    --jp-layout-color2: #454545;\n",
       "                    background-color: #383838;\n",
       "                }\n",
       "                    \n",
       "                .geemap-dark .jupyter-button {\n",
       "                    --jp-layout-color3: #383838;\n",
       "                }\n",
       "                \n",
       "                .geemap-colab {\n",
       "                    background-color: var(--colab-primary-surface-color, white);\n",
       "                }\n",
       "                    \n",
       "                .geemap-colab .jupyter-button {\n",
       "                    --jp-layout-color3: var(--colab-primary-surface-color, white);\n",
       "                }\n",
       "            </style>\n",
       "            "
      ],
      "text/plain": [
       "<IPython.core.display.HTML object>"
      ]
     },
     "metadata": {},
     "output_type": "display_data"
    },
    {
     "name": "stdout",
     "output_type": "stream",
     "text": [
      "Dtype: <class 'ee.image.Image'>\n",
      "ImageCollection size: 60\n"
     ]
    },
    {
     "data": {
      "application/vnd.jupyter.widget-view+json": {
       "model_id": "7ca51395224c4ad1afeaff1161271100",
       "version_major": 2,
       "version_minor": 0
      },
      "text/plain": [
       "Map(center=[0, 0], controls=(WidgetControl(options=['position', 'transparent_bg'], widget=SearchDataGUI(childr…"
      ]
     },
     "execution_count": 6,
     "metadata": {},
     "output_type": "execute_result"
    }
   ],
   "source": [
    "import geemap\n",
    "\n",
    "s2 = ee.ImageCollection('COPERNICUS/S2_HARMONIZED')\n",
    "geometry = ee.Geometry.BBox(106.7537, -6.2624, 106.8992, -6.12049) # Jakarta\n",
    "\n",
    "s2 = (\n",
    "    s2\n",
    "    .filter(ee.Filter.lt('CLOUDY_PIXEL_PERCENTAGE', 30))\n",
    "    .filter(ee.Filter.date('2019-01-01', '2020-01-01'))\n",
    "    .filter(ee.Filter.bounds(geometry))\n",
    "    .select('B.*')\n",
    ")\n",
    "\n",
    "image = s2.reduce(ee.Reducer.mean()) # ee.Image\n",
    "\n",
    "print(f\"Dtype: {type(image)}\")\n",
    "print(f\"ImageCollection size: {s2.size().getInfo()}\")\n",
    "\n",
    "Map = geemap.Map()\n",
    "rgb_vis = {'min': 0, 'max': 3000, 'bands': ['B4', 'B3', 'B2']}\n",
    "rgb_vis_mean = {'min': 0, 'max': 3000, 'bands': ['B4_mean', 'B3_mean', 'B2_mean']}\n",
    "Map.addLayer(s2.first().clip(geometry), rgb_vis, 'Sentinel-2')\n",
    "Map.addLayer(image.clip(geometry), rgb_vis_mean, 'Sentinel-2 Mean')\n",
    "Map.centerObject(geometry)\n",
    "Map"
   ]
  },
  {
   "cell_type": "markdown",
   "metadata": {},
   "source": [
    "Calculate average value in each band.\n",
    "\n",
    "Apply a reducer to all the pixels in a specific region. Returns an ee.dictionary.Dictionary of the reducer's output."
   ]
  },
  {
   "cell_type": "code",
   "execution_count": 17,
   "metadata": {},
   "outputs": [
    {
     "data": {
      "text/html": [
       "\n",
       "            <style>\n",
       "                .geemap-dark {\n",
       "                    --jp-widgets-color: white;\n",
       "                    --jp-widgets-label-color: white;\n",
       "                    --jp-ui-font-color1: white;\n",
       "                    --jp-layout-color2: #454545;\n",
       "                    background-color: #383838;\n",
       "                }\n",
       "                    \n",
       "                .geemap-dark .jupyter-button {\n",
       "                    --jp-layout-color3: #383838;\n",
       "                }\n",
       "                \n",
       "                .geemap-colab {\n",
       "                    background-color: var(--colab-primary-surface-color, white);\n",
       "                }\n",
       "                    \n",
       "                .geemap-colab .jupyter-button {\n",
       "                    --jp-layout-color3: var(--colab-primary-surface-color, white);\n",
       "                }\n",
       "            </style>\n",
       "            "
      ],
      "text/plain": [
       "<IPython.core.display.HTML object>"
      ]
     },
     "metadata": {},
     "output_type": "display_data"
    },
    {
     "name": "stdout",
     "output_type": "stream",
     "text": [
      "{'B10_mean': 27.744499399922233, 'B11_mean': 2344.079549701919, 'B12_mean': 1814.704796322894, 'B1_mean': 2472.120784821824, 'B2_mean': 2242.574905610044, 'B3_mean': 2046.0149182998648, 'B4_mean': 2040.7083500040692, 'B5_mean': 2004.2813631785023, 'B6_mean': 2268.9151926216296, 'B7_mean': 2483.4602959071885, 'B8A_mean': 2570.5994356245737, 'B8_mean': 2259.390739839758, 'B9_mean': 476.91329125576385}\n",
      "2040.7083500040692\n"
     ]
    }
   ],
   "source": [
    "stats = image.clip(geometry).reduceRegion(\n",
    "    reducer=ee.Reducer.mean(),\n",
    "    geometry=geometry,\n",
    "    scale=10,\n",
    "    maxPixels=1e10,\n",
    "    tileScale=4,\n",
    ")\n",
    "print(stats.getInfo())\n",
    "print(stats.get('B4_mean').getInfo())"
   ]
  }
 ],
 "metadata": {
  "kernelspec": {
   "display_name": "ccdc",
   "language": "python",
   "name": "python3"
  },
  "language_info": {
   "codemirror_mode": {
    "name": "ipython",
    "version": 3
   },
   "file_extension": ".py",
   "mimetype": "text/x-python",
   "name": "python",
   "nbconvert_exporter": "python",
   "pygments_lexer": "ipython3",
   "version": "3.8.18"
  }
 },
 "nbformat": 4,
 "nbformat_minor": 2
}
