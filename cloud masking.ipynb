{
 "cells": [
  {
   "cell_type": "code",
   "execution_count": 1,
   "metadata": {},
   "outputs": [],
   "source": [
    "import ee\n",
    "\n",
    "ee.Authenticate()\n",
    "ee.Initialize()"
   ]
  },
  {
   "cell_type": "markdown",
   "metadata": {},
   "source": [
    "Get the most cloudy image in Jakarta"
   ]
  },
  {
   "cell_type": "code",
   "execution_count": 2,
   "metadata": {},
   "outputs": [],
   "source": [
    "sentinel_2 = ee.ImageCollection('COPERNICUS/S2_HARMONIZED')\n",
    "geometry = ee.Geometry.BBox(106.7537, -6.2624, 106.8992, -6.12049) # Jakarta\n",
    "\n",
    "sentinel_2 = (\n",
    "    sentinel_2\n",
    "    .filter(ee.Filter.lt('CLOUDY_PIXEL_PERCENTAGE', 35))\n",
    "    .filter(ee.Filter.date('2019-01-01', '2020-01-01'))\n",
    "    .filter(ee.Filter.bounds(geometry))\n",
    ")\n",
    "sentinel_2 = sentinel_2.sort('CLOUDY_PIXEL_PERCENTAGE', False)\n",
    "sample_s2_image = sentinel_2.first().clip(geometry)"
   ]
  },
  {
   "cell_type": "code",
   "execution_count": 3,
   "metadata": {},
   "outputs": [
    {
     "data": {
      "application/vnd.jupyter.widget-view+json": {
       "model_id": "068e0d5309b3415494910a309d0783ce",
       "version_major": 2,
       "version_minor": 0
      },
      "text/plain": [
       "Map(center=[0, 0], controls=(WidgetControl(options=['position', 'transparent_bg'], widget=SearchDataGUI(childr…"
      ]
     },
     "execution_count": 3,
     "metadata": {},
     "output_type": "execute_result"
    }
   ],
   "source": [
    "import geemap\n",
    "\n",
    "rgbVis = {'min': 0, 'max': 3000, 'bands': ['B4', 'B3', 'B2']}\n",
    "Map = geemap.Map()\n",
    "Map.addLayer(sample_s2_image, rgbVis, 'Sentinel-2')\n",
    "Map.centerObject(geometry)\n",
    "Map"
   ]
  },
  {
   "cell_type": "markdown",
   "metadata": {},
   "source": [
    "Cloud masking"
   ]
  },
  {
   "cell_type": "code",
   "execution_count": 4,
   "metadata": {},
   "outputs": [
    {
     "data": {
      "text/html": [
       "\n",
       "            <style>\n",
       "                .geemap-dark {\n",
       "                    --jp-widgets-color: white;\n",
       "                    --jp-widgets-label-color: white;\n",
       "                    --jp-ui-font-color1: white;\n",
       "                    --jp-layout-color2: #454545;\n",
       "                    background-color: #383838;\n",
       "                }\n",
       "                    \n",
       "                .geemap-dark .jupyter-button {\n",
       "                    --jp-layout-color3: #383838;\n",
       "                }\n",
       "                \n",
       "                .geemap-colab {\n",
       "                    background-color: var(--colab-primary-surface-color, white);\n",
       "                }\n",
       "                    \n",
       "                .geemap-colab .jupyter-button {\n",
       "                    --jp-layout-color3: var(--colab-primary-surface-color, white);\n",
       "                }\n",
       "            </style>\n",
       "            "
      ],
      "text/plain": [
       "<IPython.core.display.HTML object>"
      ]
     },
     "metadata": {},
     "output_type": "display_data"
    },
    {
     "data": {
      "application/vnd.jupyter.widget-view+json": {
       "model_id": "1e159e3650c949a8b6dd1427105a02cd",
       "version_major": 2,
       "version_minor": 0
      },
      "text/plain": [
       "Map(center=[0, 0], controls=(WidgetControl(options=['position', 'transparent_bg'], widget=SearchDataGUI(childr…"
      ]
     },
     "execution_count": 4,
     "metadata": {},
     "output_type": "execute_result"
    }
   ],
   "source": [
    "def mask_s2_cloud(image: ee.Image) -> ee.Image:\n",
    "    qa60 = image.select('QA60')\n",
    "    cloudBitMask = 1 << 10\n",
    "    cirrusBitMask = 1 << 11\n",
    "    mask = qa60.bitwiseAnd(cloudBitMask).eq(0).And(qa60.bitwiseAnd(cirrusBitMask).eq(0))\n",
    "    return image.updateMask(mask).select('B.*').copyProperties(image, ['system:time_start'])\n",
    "\n",
    "s2_masked = sentinel_2.map(mask_s2_cloud)\n",
    "Map = geemap.Map()\n",
    "Map.addLayer(s2_masked.first().clip(geometry), rgbVis, 'Sentinel-2 Masked')\n",
    "Map.centerObject(geometry)\n",
    "Map"
   ]
  }
 ],
 "metadata": {
  "kernelspec": {
   "display_name": "ccdc",
   "language": "python",
   "name": "python3"
  },
  "language_info": {
   "codemirror_mode": {
    "name": "ipython",
    "version": 3
   },
   "file_extension": ".py",
   "mimetype": "text/x-python",
   "name": "python",
   "nbconvert_exporter": "python",
   "pygments_lexer": "ipython3",
   "version": "3.8.18"
  }
 },
 "nbformat": 4,
 "nbformat_minor": 2
}
